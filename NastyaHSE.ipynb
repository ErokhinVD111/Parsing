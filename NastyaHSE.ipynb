{
  "nbformat": 4,
  "nbformat_minor": 0,
  "metadata": {
    "colab": {
      "name": "NastyaHSE.ipynb",
      "provenance": [],
      "collapsed_sections": [],
      "authorship_tag": "ABX9TyNOBJEsjUr9OXcpmpXQjDrs",
      "include_colab_link": true
    },
    "kernelspec": {
      "name": "python3",
      "display_name": "Python 3"
    },
    "language_info": {
      "name": "python"
    }
  },
  "cells": [
    {
      "cell_type": "markdown",
      "metadata": {
        "id": "view-in-github",
        "colab_type": "text"
      },
      "source": [
        "<a href=\"https://colab.research.google.com/github/ErokhinVD111/Parsing/blob/main/NastyaHSE.ipynb\" target=\"_parent\"><img src=\"https://colab.research.google.com/assets/colab-badge.svg\" alt=\"Open In Colab\"/></a>"
      ]
    },
    {
      "cell_type": "code",
      "execution_count": 1,
      "metadata": {
        "id": "s0QlWWSuVU1k"
      },
      "outputs": [],
      "source": [
        "import requests\n",
        "from bs4 import BeautifulSoup\n",
        "import pandas as pd"
      ]
    },
    {
      "cell_type": "code",
      "source": [
        "# Задание №1\n",
        "url = 'https://hmat.hse.ru/persons'\n",
        "response = requests.get(url)\n",
        "soup = BeautifulSoup(response.text, 'lxml')"
      ],
      "metadata": {
        "id": "gtc4E1U2VcHs"
      },
      "execution_count": 10,
      "outputs": []
    },
    {
      "cell_type": "code",
      "source": [
        "persons = soup.find_all('a', class_='fa-person__name')\n",
        "employee_links = []\n",
        "for person in persons:\n",
        "    employee_links.append('https://' + person['href'][2:])"
      ],
      "metadata": {
        "id": "j8Fz1ITYVcJy"
      },
      "execution_count": 11,
      "outputs": []
    },
    {
      "cell_type": "code",
      "source": [
        "employee_links"
      ],
      "metadata": {
        "colab": {
          "base_uri": "https://localhost:8080/"
        },
        "id": "_oWpAdzvqBnT",
        "outputId": "ea693005-658a-4bb3-f711-8dbd34d82ff4"
      },
      "execution_count": 12,
      "outputs": [
        {
          "output_type": "execute_result",
          "data": {
            "text/plain": [
              "['https://www.hse.ru/org/persons/190260375',\n",
              " 'https://www.hse.ru/staff/ddagaev',\n",
              " 'https://www.hse.ru/org/persons/224066299',\n",
              " 'https://www.hse.ru/org/persons/412677111',\n",
              " 'https://www.hse.ru/org/persons/135936',\n",
              " 'https://www.hse.ru/org/persons/36169548',\n",
              " 'https://www.hse.ru/staff/VasilyNikonov',\n",
              " 'https://www.hse.ru/staff/salnikova',\n",
              " 'https://www.hse.ru/org/persons/14293104',\n",
              " 'https://www.hse.ru/org/persons/600268',\n",
              " 'https://www.hse.ru/staff/stukal',\n",
              " 'https://www.hse.ru/staff/lsysoeva',\n",
              " 'https://www.hse.ru/org/persons/63890353',\n",
              " 'https://www.hse.ru/org/persons/47634709',\n",
              " 'https://www.hse.ru/staff/is',\n",
              " 'https://www.hse.ru/org/persons/207912918',\n",
              " 'https://www.hse.ru/org/persons/307981516',\n",
              " 'https://www.hse.ru/staff/panovpeter',\n",
              " 'https://www.hse.ru/org/persons/135897',\n",
              " 'https://www.hse.ru/org/persons/134016834',\n",
              " 'https://www.hse.ru/org/persons/223680621',\n",
              " 'https://www.hse.ru/staff/iabobrova',\n",
              " 'https://www.hse.ru/org/persons/135878',\n",
              " 'https://www.hse.ru/org/persons/63501654',\n",
              " 'https://www.hse.ru/staff/pamalyutina',\n",
              " 'https://www.hse.ru/org/persons/418488397',\n",
              " 'https://www.hse.ru/staff/aaparshina',\n",
              " 'https://www.hse.ru/staff/pvrevina',\n",
              " 'https://www.hse.ru/staff/sanochkin',\n",
              " 'https://www.hse.ru/org/persons/305122517',\n",
              " 'https://www.hse.ru/staff/allat',\n",
              " 'https://www.hse.ru/org/persons/225586490',\n",
              " 'https://www.hse.ru/staff/esheremet']"
            ]
          },
          "metadata": {},
          "execution_count": 12
        }
      ]
    },
    {
      "cell_type": "code",
      "source": [
        "# Задание №2\n",
        "url = employee_links[11]\n",
        "response = requests.get(url)\n",
        "soup = BeautifulSoup(response.text, 'lxml')"
      ],
      "metadata": {
        "id": "vHapM1epqHdq"
      },
      "execution_count": 13,
      "outputs": []
    },
    {
      "cell_type": "code",
      "source": [
        "data = []"
      ],
      "metadata": {
        "id": "iOJ0lFsNqHpd"
      },
      "execution_count": 14,
      "outputs": []
    },
    {
      "cell_type": "code",
      "source": [
        "info = soup.find_all('div', class_='main')\n",
        "for name in info:\n",
        "    data.append(name.find('h1').text)\n",
        "for year in info:\n",
        "    data.append(int(year.find('li', class_='i').text.split()[6]))"
      ],
      "metadata": {
        "id": "KNepjWRAqHsC"
      },
      "execution_count": 15,
      "outputs": []
    },
    {
      "cell_type": "code",
      "source": [
        "info = soup.find_all('dl', class_='main-list large main-list-language-knowledge-level')\n",
        "languages = []\n",
        "for language in info[0].find_all('dd'):\n",
        "    languages.append(language.text)\n",
        "data.append(' '.join(languages))"
      ],
      "metadata": {
        "id": "MjmeV7vTqHuZ"
      },
      "execution_count": 16,
      "outputs": []
    },
    {
      "cell_type": "code",
      "source": [
        "data"
      ],
      "metadata": {
        "colab": {
          "base_uri": "https://localhost:8080/"
        },
        "id": "O_bYWE92qHwQ",
        "outputId": "7585bd26-3ca4-49e1-87dd-14fff60d7844"
      },
      "execution_count": 17,
      "outputs": [
        {
          "output_type": "execute_result",
          "data": {
            "text/plain": [
              "['Сысоева Любовь Николаевна', 2016, 'английский немецкий']"
            ]
          },
          "metadata": {},
          "execution_count": 17
        }
      ]
    },
    {
      "cell_type": "code",
      "source": [
        "# Задание №3\n",
        "def hse_info(link):\n",
        "    response = requests.get(link)\n",
        "    soup = BeautifulSoup(response.text, 'lxml')\n",
        "    data = []\n",
        "    info = soup.find_all('div', class_='main')\n",
        "    for name in info:\n",
        "        data.append(name.find('h1').text)\n",
        "    for year in info:\n",
        "        data.append(int(year.find('li', class_='i').text.split()[6]))\n",
        "    info = soup.find_all('dl', class_='main-list large main-list-language-knowledge-level')\n",
        "    if info:\n",
        "        languages = []\n",
        "        for language in info[0].find_all('dd'):\n",
        "            languages.append(language.text)\n",
        "        data.append(' '.join(languages))\n",
        "    else:\n",
        "        data.append('нет данных')\n",
        "    return data"
      ],
      "metadata": {
        "id": "qIMy9cO3qVVi"
      },
      "execution_count": 24,
      "outputs": []
    },
    {
      "cell_type": "code",
      "source": [
        "hse_info(employee_links[1])"
      ],
      "metadata": {
        "colab": {
          "base_uri": "https://localhost:8080/"
        },
        "id": "FXSpckFgqVYG",
        "outputId": "39fb0d09-82a4-42be-e736-0ef38b460e5f"
      },
      "execution_count": 25,
      "outputs": [
        {
          "output_type": "execute_result",
          "data": {
            "text/plain": [
              "['Дагаев Дмитрий Александрович', 2010, 'английский французский']"
            ]
          },
          "metadata": {},
          "execution_count": 25
        }
      ]
    },
    {
      "cell_type": "code",
      "source": [
        "# Задание №4\n",
        "employees_data = []\n",
        "for link in employee_links:\n",
        "    employees_data.append(hse_info(link))\n",
        "    "
      ],
      "metadata": {
        "id": "m9miukXRqVfD"
      },
      "execution_count": 28,
      "outputs": []
    },
    {
      "cell_type": "code",
      "source": [
        "employees_data"
      ],
      "metadata": {
        "colab": {
          "base_uri": "https://localhost:8080/"
        },
        "id": "dKXyE2RCs8nm",
        "outputId": "95bc029d-06b3-47a2-b3b3-cf6cf7e4b7ce"
      },
      "execution_count": 29,
      "outputs": [
        {
          "output_type": "execute_result",
          "data": {
            "text/plain": [
              "[['Гончаренко Василий Михайлович', 2016, 'английский'],\n",
              " ['Дагаев Дмитрий Александрович', 2010, 'английский французский'],\n",
              " ['Елаева Мария Сергеевна', 2018, 'английский'],\n",
              " ['Кийков Сергей Ортабаевич', 2020, 'английский французский'],\n",
              " ['Логвенков Сергей Алексеевич', 2000, 'английский'],\n",
              " ['Михайлович Анна Витальевна', 2011, 'английский французский немецкий'],\n",
              " ['Никонов Василий Иванович', 2018, 'английский'],\n",
              " ['Сальникова Дарья Вячеславовна', 2011, 'английский'],\n",
              " ['Сахарова Нина Евгеньевна', 2010, 'английский'],\n",
              " ['Симонова Галина Ивановна', 2007, 'английский'],\n",
              " ['Стукал Денис Константинович', 2008, 'английский испанский немецкий'],\n",
              " ['Сысоева Любовь Николаевна', 2016, 'английский немецкий'],\n",
              " ['Филимонов Дмитрий Андреевич',\n",
              "  2013,\n",
              "  'английский французский немецкий испанский'],\n",
              " ['Шнурков Петр Викторович', 2012, 'английский'],\n",
              " ['Щуров Илья Валерьевич', 2010, 'английский'],\n",
              " ['Латышев Александр Михайлович', 2020, 'нет данных'],\n",
              " ['Никонова Екатерина Александровна', 2019, 'английский'],\n",
              " ['Панов Петр Алексеевич', 2006, 'нет данных'],\n",
              " ['Макаров Алексей Алексеевич', 2001, 'английский'],\n",
              " ['Буров Александр Анатольевич', 2014, 'английский французский'],\n",
              " ['Кочергин Вадим Васильевич', 2018, 'английский'],\n",
              " ['Боброва Ирина Александровна', 2020, 'английский'],\n",
              " ['Дружининская Ирина Михайловна', 2022, 'нет данных'],\n",
              " ['Колотвина Оксана Альбертовна', 2012, 'английский греческий'],\n",
              " ['Малютина Полина Александровна', 2017, 'английский французский'],\n",
              " ['Панов Алексей Андреевич', 2022, 'нет данных'],\n",
              " ['Паршина Анастасия Алексеевна', 2020, 'английский'],\n",
              " ['Ревина Полина Владимировна', 2022, 'английский'],\n",
              " ['Саночкин Юрий Ильич', 2021, 'английский французский'],\n",
              " ['Смоленкова Виктория Андреевна', 2020, 'нет данных'],\n",
              " ['Тамбовцева Алла Андреевна',\n",
              "  2014,\n",
              "  'английский испанский французский словенский'],\n",
              " ['Успенская Анастасия Сергеевна', 2019, 'английский'],\n",
              " ['Шеремет Елизавета Павловна', 2014, 'английский']]"
            ]
          },
          "metadata": {},
          "execution_count": 29
        }
      ]
    },
    {
      "cell_type": "code",
      "source": [
        "df = pd.DataFrame(employees_data, columns=['ФИО', 'Год начала работы', 'Владение языками'])\n",
        "with pd.ExcelWriter(\"employees_info.xlsx\") as writer:\n",
        "    df.to_excel(writer, index=False)"
      ],
      "metadata": {
        "id": "kFQiF1gYsHkf"
      },
      "execution_count": 30,
      "outputs": []
    }
  ]
}