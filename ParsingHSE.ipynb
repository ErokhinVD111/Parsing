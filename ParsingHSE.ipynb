{
  "nbformat": 4,
  "nbformat_minor": 0,
  "metadata": {
    "colab": {
      "name": "ParsingHSE.ipynb",
      "provenance": [],
      "collapsed_sections": [],
      "authorship_tag": "ABX9TyMCiC/0hA7Xxt7zpRVi9eZo",
      "include_colab_link": true
    },
    "kernelspec": {
      "name": "python3",
      "display_name": "Python 3"
    },
    "language_info": {
      "name": "python"
    }
  },
  "cells": [
    {
      "cell_type": "markdown",
      "metadata": {
        "id": "view-in-github",
        "colab_type": "text"
      },
      "source": [
        "<a href=\"https://colab.research.google.com/github/ErokhinVD111/Parsing/blob/main/ParsingHSE.ipynb\" target=\"_parent\"><img src=\"https://colab.research.google.com/assets/colab-badge.svg\" alt=\"Open In Colab\"/></a>"
      ]
    },
    {
      "cell_type": "code",
      "execution_count": 1,
      "metadata": {
        "id": "zeYJR22UK3oi"
      },
      "outputs": [],
      "source": [
        "import requests\n",
        "from bs4 import BeautifulSoup\n",
        "import pandas as pd"
      ]
    },
    {
      "cell_type": "code",
      "source": [
        "# Задание №1\n",
        "url = 'https://hmat.hse.ru/persons'\n",
        "response = requests.get(url)\n",
        "soup = BeautifulSoup(response.text, 'lxml')"
      ],
      "metadata": {
        "id": "Mo0Ijk0RLOsF"
      },
      "execution_count": 32,
      "outputs": []
    },
    {
      "cell_type": "code",
      "source": [
        "persons = soup.find_all('a', class_='fa-person__name')\n",
        "employee_links = []"
      ],
      "metadata": {
        "id": "hE-xAMrnLRIE"
      },
      "execution_count": 34,
      "outputs": []
    },
    {
      "cell_type": "code",
      "source": [
        "for person in persons:\n",
        "    parsed_person = (\n",
        "        str(person).replace('\\t', '')\n",
        "        .replace('\\n', ' ')\n",
        "        .replace('<a class=\"fa-person__name\" href=\"', '')\n",
        "        .replace('\">', '')\n",
        "        .replace('</a>', '')\n",
        "        .split()\n",
        "    )\n",
        "    name = f'{parsed_person[1]} {parsed_person[2]} {parsed_person[3]}'\n",
        "    link = f'{parsed_person[0]}'\n",
        "    employees[name] = f\"https:{link}\""
      ],
      "metadata": {
        "id": "fNp3iqywLRKo"
      },
      "execution_count": 35,
      "outputs": []
    },
    {
      "cell_type": "code",
      "source": [
        "links = list(employees.values())"
      ],
      "metadata": {
        "id": "RH4IDozBLRNI"
      },
      "execution_count": 36,
      "outputs": []
    },
    {
      "cell_type": "code",
      "source": [
        "employees"
      ],
      "metadata": {
        "colab": {
          "base_uri": "https://localhost:8080/"
        },
        "id": "EkoHGg8zLRPd",
        "outputId": "7e0f10e8-703f-4283-8b67-36f34e690e85"
      },
      "execution_count": 37,
      "outputs": [
        {
          "output_type": "execute_result",
          "data": {
            "text/plain": [
              "{'Боброва Ирина Александровна': 'https://www.hse.ru/staff/iabobrova',\n",
              " 'Буров Александр Анатольевич': 'https://www.hse.ru/org/persons/134016834',\n",
              " 'Гончаренко Василий Михайлович': 'https://www.hse.ru/org/persons/190260375',\n",
              " 'Дагаев Дмитрий Александрович': 'https://www.hse.ru/staff/ddagaev',\n",
              " 'Дружининская Ирина Михайловна': 'https://www.hse.ru/org/persons/135878',\n",
              " 'Елаева Мария Сергеевна': 'https://www.hse.ru/org/persons/224066299',\n",
              " 'Кийков Сергей Ортабаевич': 'https://www.hse.ru/org/persons/412677111',\n",
              " 'Колотвина Оксана Альбертовна': 'https://www.hse.ru/org/persons/63501654',\n",
              " 'Кочергин Вадим Васильевич': 'https://www.hse.ru/org/persons/223680621',\n",
              " 'Латышев Александр Михайлович': 'https://www.hse.ru/org/persons/207912918',\n",
              " 'Логвенков Сергей Алексеевич': 'https://www.hse.ru/org/persons/135936',\n",
              " 'Макаров Алексей Алексеевич': 'https://www.hse.ru/org/persons/135897',\n",
              " 'Малютина Полина Александровна': 'https://www.hse.ru/staff/pamalyutina',\n",
              " 'Михайлович Анна Витальевна': 'https://www.hse.ru/org/persons/36169548',\n",
              " 'Никонов Василий Иванович': 'https://www.hse.ru/staff/VasilyNikonov',\n",
              " 'Никонова Екатерина Александровна': 'https://www.hse.ru/org/persons/307981516',\n",
              " 'Панов Алексей Андреевич': 'https://www.hse.ru/org/persons/418488397',\n",
              " 'Панов Петр Алексеевич': 'https://www.hse.ru/staff/panovpeter',\n",
              " 'Паршина Анастасия Алексеевна': 'https://www.hse.ru/staff/aaparshina',\n",
              " 'Ревина Полина Владимировна': 'https://www.hse.ru/staff/pvrevina',\n",
              " 'Сальникова Дарья Вячеславовна': 'https://www.hse.ru/staff/salnikova',\n",
              " 'Саночкин Юрий Ильич': 'https://www.hse.ru/staff/sanochkin',\n",
              " 'Сахарова Нина Евгеньевна': 'https://www.hse.ru/org/persons/14293104',\n",
              " 'Симонова Галина Ивановна': 'https://www.hse.ru/org/persons/600268',\n",
              " 'Смоленкова Виктория Андреевна': 'https://www.hse.ru/org/persons/305122517',\n",
              " 'Стукал Денис Константинович': 'https://www.hse.ru/staff/stukal',\n",
              " 'Сысоева Любовь Николаевна': 'https://www.hse.ru/staff/lsysoeva',\n",
              " 'Тамбовцева Алла Андреевна': 'https://www.hse.ru/staff/allat',\n",
              " 'Успенская Анастасия Сергеевна': 'https://www.hse.ru/org/persons/225586490',\n",
              " 'Филимонов Дмитрий Андреевич': 'https://www.hse.ru/org/persons/63890353',\n",
              " 'Шеремет Елизавета Павловна': 'https://www.hse.ru/staff/esheremet',\n",
              " 'Шнурков Петр Викторович': 'https://www.hse.ru/org/persons/47634709',\n",
              " 'Щуров Илья Валерьевич': 'https://www.hse.ru/staff/is'}"
            ]
          },
          "metadata": {},
          "execution_count": 37
        }
      ]
    },
    {
      "cell_type": "code",
      "source": [
        "#Задание №2\n",
        "url = links[11]\n",
        "response = requests.get(url)\n",
        "soup = BeautifulSoup(response.text, 'lxml')"
      ],
      "metadata": {
        "id": "zsBlTEBcLRRf"
      },
      "execution_count": 38,
      "outputs": []
    },
    {
      "cell_type": "code",
      "source": [
        "employee_data = []\n",
        "page = soup.find_all('div', class_='main')\n",
        "for info in page:\n",
        "    employee_data.append(info.find('h1').text)\n",
        "    employee_data.append(int(info.find('li', class_='i').text.split()[6]))"
      ],
      "metadata": {
        "id": "al2AE33GMW5H"
      },
      "execution_count": 39,
      "outputs": []
    },
    {
      "cell_type": "code",
      "source": [
        "page = soup.find_all('dl', class_='main-list large main-list-language-knowledge-level')\n",
        "for info in page:\n",
        "    languages = ( \n",
        "        str(info).replace('<dl class=\"main-list large main-list-language-'\n",
        "        'knowledge-level\"><dt class=\"b\">Владение языками</dt>', '') \n",
        "        .replace('<dd>', '')\n",
        "        .replace('</dd>', ' ')\n",
        "        .replace('</dl>', '')\n",
        "        .split()\n",
        "    )\n",
        "    employee_data.append(' '.join(languages))"
      ],
      "metadata": {
        "id": "3J-mIhauMW7t"
      },
      "execution_count": 40,
      "outputs": []
    },
    {
      "cell_type": "code",
      "source": [
        "employee_data"
      ],
      "metadata": {
        "colab": {
          "base_uri": "https://localhost:8080/"
        },
        "id": "eKMl5HxMMW9n",
        "outputId": "d1052e76-2e18-48f5-a276-686861229bba"
      },
      "execution_count": 41,
      "outputs": [
        {
          "output_type": "execute_result",
          "data": {
            "text/plain": [
              "['Сысоева Любовь Николаевна', 2016, 'английский немецкий']"
            ]
          },
          "metadata": {},
          "execution_count": 41
        }
      ]
    },
    {
      "cell_type": "code",
      "source": [
        "# Задание №3\n",
        "def hse_info(link):\n",
        "    response = requests.get(link)\n",
        "    soup = BeautifulSoup(response.text, 'lxml')\n",
        "\n",
        "    employee_data = []\n",
        "    page = soup.find_all('div', class_='main')\n",
        "    for info in page:\n",
        "        employee_data.append(info.find('h1').text)\n",
        "        employee_data.append(int(info.find('li', class_='i').text.split()[6]))\n",
        "\n",
        "    page = soup.find_all('dl', class_='main-list large main-list-language-knowledge-level')\n",
        "    for info in page:\n",
        "        languages = (\n",
        "            str(info).replace('<dl class=\"main-list large main-list-language-'\n",
        "            'knowledge-level\"><dt class=\"b\">Владение языками</dt>', '')\n",
        "            .replace('<dd>', '')\n",
        "            .replace('</dd>', ' ')\n",
        "            .replace('</dl>', '')\n",
        "            .split()\n",
        "        )\n",
        "        employee_data.append(' '.join(languages))\n",
        "\n",
        "    if not page:\n",
        "        employee_data.append('нет данных')\n",
        "\n",
        "    return employee_data"
      ],
      "metadata": {
        "id": "eTYBH4zDNpfX"
      },
      "execution_count": 42,
      "outputs": []
    },
    {
      "cell_type": "code",
      "source": [
        "hse_info(links[7])"
      ],
      "metadata": {
        "colab": {
          "base_uri": "https://localhost:8080/"
        },
        "id": "xZ4pmBkwNpiG",
        "outputId": "77368fe3-3db0-4bca-8301-d9115d9d7c1a"
      },
      "execution_count": 43,
      "outputs": [
        {
          "output_type": "execute_result",
          "data": {
            "text/plain": [
              "['Сальникова Дарья Вячеславовна', 2011, 'английский']"
            ]
          },
          "metadata": {},
          "execution_count": 43
        }
      ]
    },
    {
      "cell_type": "code",
      "source": [
        "# Задание №4\n",
        "employees = []\n",
        "for link in links:\n",
        "    employees.append(hse_info(link))"
      ],
      "metadata": {
        "id": "sUpxYOovNpkZ"
      },
      "execution_count": 44,
      "outputs": []
    },
    {
      "cell_type": "code",
      "source": [
        "employees"
      ],
      "metadata": {
        "colab": {
          "base_uri": "https://localhost:8080/"
        },
        "id": "xUX1-eAyNpmP",
        "outputId": "f2ee511e-ba17-48d4-ef05-fe30a8c8c206"
      },
      "execution_count": 45,
      "outputs": [
        {
          "output_type": "execute_result",
          "data": {
            "text/plain": [
              "[['Гончаренко Василий Михайлович', 2016, 'английский'],\n",
              " ['Дагаев Дмитрий Александрович', 2010, 'английский французский'],\n",
              " ['Елаева Мария Сергеевна', 2018, 'английский'],\n",
              " ['Кийков Сергей Ортабаевич', 2020, 'английский французский'],\n",
              " ['Логвенков Сергей Алексеевич', 2000, 'английский'],\n",
              " ['Михайлович Анна Витальевна', 2011, 'английский французский немецкий'],\n",
              " ['Никонов Василий Иванович', 2018, 'английский'],\n",
              " ['Сальникова Дарья Вячеславовна', 2011, 'английский'],\n",
              " ['Сахарова Нина Евгеньевна', 2010, 'английский'],\n",
              " ['Симонова Галина Ивановна', 2007, 'английский'],\n",
              " ['Стукал Денис Константинович', 2008, 'английский испанский немецкий'],\n",
              " ['Сысоева Любовь Николаевна', 2016, 'английский немецкий'],\n",
              " ['Филимонов Дмитрий Андреевич',\n",
              "  2013,\n",
              "  'английский французский немецкий испанский'],\n",
              " ['Шнурков Петр Викторович', 2012, 'английский'],\n",
              " ['Щуров Илья Валерьевич', 2010, 'английский'],\n",
              " ['Латышев Александр Михайлович', 2020, 'нет данных'],\n",
              " ['Никонова Екатерина Александровна', 2019, 'английский'],\n",
              " ['Панов Петр Алексеевич', 2006, 'нет данных'],\n",
              " ['Макаров Алексей Алексеевич', 2001, 'английский'],\n",
              " ['Буров Александр Анатольевич', 2014, 'английский французский'],\n",
              " ['Кочергин Вадим Васильевич', 2018, 'английский'],\n",
              " ['Боброва Ирина Александровна', 2020, 'английский'],\n",
              " ['Дружининская Ирина Михайловна', 2022, 'нет данных'],\n",
              " ['Колотвина Оксана Альбертовна', 2012, 'английский греческий'],\n",
              " ['Малютина Полина Александровна', 2017, 'английский французский'],\n",
              " ['Панов Алексей Андреевич', 2022, 'нет данных'],\n",
              " ['Паршина Анастасия Алексеевна', 2020, 'английский'],\n",
              " ['Ревина Полина Владимировна', 2022, 'английский'],\n",
              " ['Саночкин Юрий Ильич', 2021, 'английский французский'],\n",
              " ['Смоленкова Виктория Андреевна', 2020, 'нет данных'],\n",
              " ['Тамбовцева Алла Андреевна',\n",
              "  2014,\n",
              "  'английский испанский французский словенский'],\n",
              " ['Успенская Анастасия Сергеевна', 2019, 'английский'],\n",
              " ['Шеремет Елизавета Павловна', 2014, 'английский']]"
            ]
          },
          "metadata": {},
          "execution_count": 45
        }
      ]
    },
    {
      "cell_type": "code",
      "source": [
        "df = pd.DataFrame(data=employees, columns=['ФИО', 'Год начала работы', 'Владение языками'])\n",
        "with pd.ExcelWriter(\"HSE.xlsx\") as writer:\n",
        "    df.to_excel(writer, index=False)"
      ],
      "metadata": {
        "id": "eMlaawg2Py5W"
      },
      "execution_count": 48,
      "outputs": []
    }
  ]
}